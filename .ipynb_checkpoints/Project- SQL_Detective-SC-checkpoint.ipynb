{
 "cells": [
  {
   "cell_type": "markdown",
   "id": "b82ca367-d09d-4029-b435-a45174394a99",
   "metadata": {},
   "source": [
    "<img src=\"img/Peoplelogy-Logo.png\" height=120 width=120 align=left>\n",
    "<img src=\"img/sql.png\" height=100 width=250 align=right>"
   ]
  },
  {
   "cell_type": "markdown",
   "id": "969414ef-f767-4768-b38c-426f8389b37c",
   "metadata": {},
   "source": [
    "# **Challenge: Who Stole the Duck from Fiftyville?**\n",
    "\n",
    "---\n",
    "<img src=\"img/12.jpg\">\n",
    "\n",
    "---\n",
    "## **The famous duck statue has been stolen from Fiftyville!**\n",
    "\n",
    "The town of Fiftyville has called upon you to solve the mystery of the stolen duck. Authorities believe that the thief stole the duck and then, shortly afterwards, took a flight out of town with the help of an accomplice. Your goal is to identify:\n",
    "\n",
    "- **Who the thief is,**\n",
    "- **What city the thief escaped to, and**\n",
    "- **Who the thief’s accomplice is who helped them escape.**\n",
    "\n",
    "#### All you know is that the theft took place on **July 28, 2023**, and that it occurred on **Humphrey Street**.\n",
    "\n",
    "### **How Will You Solve the Mystery?**\n",
    "\n",
    "The Fiftyville authorities have collected some of the town’s records from around the time of the theft and prepared a SQLite database for you, `fiftyville.db`, which contains tables of data from various sources around the town. You can query that database using **SQL SELECT** queries to access the data of interest to you.\n",
    "\n",
    "Using just the information in the database, your task is to solve the mystery."
   ]
  },
  {
   "cell_type": "markdown",
   "id": "01b43721-24f9-4d2a-a613-5c2dd7e256c2",
   "metadata": {},
   "source": [
    "\n",
    "### **Available Tables**:\n",
    "\n",
    "\n",
    "- **crime_scene_reports**: Contains information about crime scenes, including the date and street location of the crime.\n",
    "    - Columns: `id`, `year`, `month`, `day`, `street`, `description`\n",
    "  \n",
    "- **interviews**: Contains transcripts of interviews conducted with suspects or witnesses.\n",
    "    - Columns: `id`, `name`, `year`, `month`, `day`, `transcript`\n",
    "\n",
    "- **atm_transactions**: Records of ATM transactions made by residents of Fiftyville.\n",
    "    - Columns: `id`, `account_number`, `year`, `month`, `day`, `atm_location`, `transaction_type`, `amount`\n",
    "  \n",
    "- **bank_accounts**: Information about bank accounts, including the account holder (person).\n",
    "    - Columns: `account_number`, `person_id`, `creation_year`\n",
    "  \n",
    "- **airports**: Information about airports, including their abbreviation, full name, and city.\n",
    "    - Columns: `id`, `abbreviation`, `full_name`, `city`\n",
    "  \n",
    "- **flights**: Details about flights, including the origin and destination airports, and the time of departure.\n",
    "    - Columns: `id`, `origin_airport_id`, `destination_airport_id`, `year`, `month`, `day`, `hour`, `minute`\n",
    "  \n",
    "- **passengers**: Information about flight passengers and their seat assignments.\n",
    "    - Columns: `flight_id`, `passport_number`, `seat`\n",
    "  \n",
    "- **phone_calls**: Records of phone calls made between individuals in Fiftyville.\n",
    "    - Columns: `id`, `caller`, `receiver`, `year`, `month`, `day`, `duration`\n",
    "  \n",
    "- **people**: Personal information about the residents of Fiftyville, including their license plate numbers and phone numbers.\n",
    "    - Columns: `id`, `name`, `phone_number`, `passport_number`, `license_plate`\n",
    "  \n",
    "- **bakery_security_logs**: Logs from the bakery security system, capturing vehicle activity and license plates.\n",
    "    - Columns: `id`, `year`, `month`, `day`, `hour`, `minute`, `activity`, `license_plate`\n",
    "\n",
    "---"
   ]
  },
  {
   "cell_type": "markdown",
   "id": "5862861c-418e-48cd-9284-99f13775eb2a",
   "metadata": {},
   "source": [
    "\n",
    "\n",
    "### **Instructions**:\n",
    "\n",
    "Follow the clues hidden in the tables to find out **who stole the duck**. Use SQL queries to investigate and gather information.\n",
    "\n",
    "1. **Investigate the Crime Scene**:\n",
    "    - Query the `crime_scene_reports` table to find out when and where the theft took place.\n",
    "\n",
    "---\n",
    "2. **Interview Witnesses**:\n",
    "    - Check the `interviews` table for any witness statements regarding the theft. Look for clues in the transcripts.\n",
    "---\n",
    "\n",
    "3. **Analyze ATM Transactions**:\n",
    "    - Use the `atm_transactions` table to see if any suspicious financial activity occurred near the time of the theft.\n",
    "\n",
    "---\n",
    "4. **Investigate the Bakery's Security Logs**:\n",
    "    - The thief may have passed by the bakery. Check the `bakery_security_logs` table for suspicious vehicles.\n",
    "\n",
    "\n",
    "---\n",
    "5. **Trace Flight Passengers**:\n",
    "    - Query the `flights` and `passengers` tables to check if the thief attempted to flee town by plane. Cross-reference the suspect's passport number.\n",
    "\n",
    "---\n",
    "6. **Check Phone Records**:\n",
    "    - Investigate phone records in the `phone_calls` table to see if any calls were made around the time of the theft.\n",
    "\n",
    "---\n",
    "7. **Identify the Culprit**:\n",
    "    - Combine the clues from all the tables and cross-reference the `people` table to find out who stole the duck.\n",
    "\n",
    "---\n",
    "\n",
    "### **Bonus Challenge**:\n",
    "\n",
    "For advanced detectives, try writing a single SQL query that **JOINs** multiple tables together to narrow down the suspect list. You can use the vehicle license plates, phone records, and flight data to identify the thief.\n",
    "\n"
   ]
  },
  {
   "cell_type": "code",
   "execution_count": 15,
   "id": "26896d1a-7351-44c9-a14f-e72c69d9ce2f",
   "metadata": {},
   "outputs": [
    {
     "name": "stdout",
     "output_type": "stream",
     "text": [
      "Requirement already satisfied: ipython-sql in c:\\users\\user\\appdata\\local\\programs\\python\\python312\\lib\\site-packages (0.5.0)\n",
      "Requirement already satisfied: prettytable in c:\\users\\user\\appdata\\local\\programs\\python\\python312\\lib\\site-packages (from ipython-sql) (3.11.0)\n",
      "Requirement already satisfied: ipython in c:\\users\\user\\appdata\\local\\programs\\python\\python312\\lib\\site-packages (from ipython-sql) (8.28.0)\n",
      "Requirement already satisfied: sqlalchemy>=2.0 in c:\\users\\user\\appdata\\local\\programs\\python\\python312\\lib\\site-packages (from ipython-sql) (2.0.36)\n",
      "Requirement already satisfied: sqlparse in c:\\users\\user\\appdata\\local\\programs\\python\\python312\\lib\\site-packages (from ipython-sql) (0.5.1)\n",
      "Requirement already satisfied: six in c:\\users\\user\\appdata\\local\\programs\\python\\python312\\lib\\site-packages (from ipython-sql) (1.16.0)\n",
      "Requirement already satisfied: ipython-genutils in c:\\users\\user\\appdata\\local\\programs\\python\\python312\\lib\\site-packages (from ipython-sql) (0.2.0)\n",
      "Requirement already satisfied: typing-extensions>=4.6.0 in c:\\users\\user\\appdata\\local\\programs\\python\\python312\\lib\\site-packages (from sqlalchemy>=2.0->ipython-sql) (4.12.2)\n",
      "Requirement already satisfied: greenlet!=0.4.17 in c:\\users\\user\\appdata\\local\\programs\\python\\python312\\lib\\site-packages (from sqlalchemy>=2.0->ipython-sql) (3.1.1)\n",
      "Requirement already satisfied: decorator in c:\\users\\user\\appdata\\local\\programs\\python\\python312\\lib\\site-packages (from ipython->ipython-sql) (5.1.1)\n",
      "Requirement already satisfied: jedi>=0.16 in c:\\users\\user\\appdata\\local\\programs\\python\\python312\\lib\\site-packages (from ipython->ipython-sql) (0.19.1)\n",
      "Requirement already satisfied: matplotlib-inline in c:\\users\\user\\appdata\\local\\programs\\python\\python312\\lib\\site-packages (from ipython->ipython-sql) (0.1.7)\n",
      "Requirement already satisfied: prompt-toolkit<3.1.0,>=3.0.41 in c:\\users\\user\\appdata\\local\\programs\\python\\python312\\lib\\site-packages (from ipython->ipython-sql) (3.0.48)\n",
      "Requirement already satisfied: pygments>=2.4.0 in c:\\users\\user\\appdata\\local\\programs\\python\\python312\\lib\\site-packages (from ipython->ipython-sql) (2.18.0)\n",
      "Requirement already satisfied: stack-data in c:\\users\\user\\appdata\\local\\programs\\python\\python312\\lib\\site-packages (from ipython->ipython-sql) (0.6.3)\n",
      "Requirement already satisfied: traitlets>=5.13.0 in c:\\users\\user\\appdata\\local\\programs\\python\\python312\\lib\\site-packages (from ipython->ipython-sql) (5.14.3)\n",
      "Requirement already satisfied: colorama in c:\\users\\user\\appdata\\local\\programs\\python\\python312\\lib\\site-packages (from ipython->ipython-sql) (0.4.6)\n",
      "Requirement already satisfied: wcwidth in c:\\users\\user\\appdata\\local\\programs\\python\\python312\\lib\\site-packages (from prettytable->ipython-sql) (0.2.13)\n",
      "Requirement already satisfied: parso<0.9.0,>=0.8.3 in c:\\users\\user\\appdata\\local\\programs\\python\\python312\\lib\\site-packages (from jedi>=0.16->ipython->ipython-sql) (0.8.4)\n",
      "Requirement already satisfied: executing>=1.2.0 in c:\\users\\user\\appdata\\local\\programs\\python\\python312\\lib\\site-packages (from stack-data->ipython->ipython-sql) (2.1.0)\n",
      "Requirement already satisfied: asttokens>=2.1.0 in c:\\users\\user\\appdata\\local\\programs\\python\\python312\\lib\\site-packages (from stack-data->ipython->ipython-sql) (2.4.1)\n",
      "Requirement already satisfied: pure-eval in c:\\users\\user\\appdata\\local\\programs\\python\\python312\\lib\\site-packages (from stack-data->ipython->ipython-sql) (0.2.3)\n"
     ]
    },
    {
     "name": "stderr",
     "output_type": "stream",
     "text": [
      "\n",
      "[notice] A new release of pip is available: 24.2 -> 24.3.1\n",
      "[notice] To update, run: python.exe -m pip install --upgrade pip\n"
     ]
    }
   ],
   "source": [
    "!pip install ipython-sql"
   ]
  },
  {
   "cell_type": "code",
   "execution_count": 16,
   "id": "2df1c812-1c11-4c43-823a-897fe6d284e3",
   "metadata": {},
   "outputs": [
    {
     "name": "stdout",
     "output_type": "stream",
     "text": [
      "The sql extension is already loaded. To reload it, use:\n",
      "  %reload_ext sql\n"
     ]
    }
   ],
   "source": [
    "%load_ext sql"
   ]
  },
  {
   "cell_type": "code",
   "execution_count": 17,
   "id": "e6fc9550-5097-4610-bdaf-d67aa4f2c4af",
   "metadata": {},
   "outputs": [],
   "source": [
    "%sql sqlite:///fiftyville.db"
   ]
  },
  {
   "cell_type": "markdown",
   "id": "e25f71e6-e396-44ff-9bc3-e82a90f69792",
   "metadata": {},
   "source": [
    "### Crime Overview\n",
    "The crime took place on **July 28**, and the incident occurred on **Humphrey St.**. The theft of the duck is believed to have happened in this location, which is a critical clue in solving the case.\n"
   ]
  },
  {
   "cell_type": "code",
   "execution_count": 18,
   "id": "bdf085a3-3af0-4671-8ce1-6702202bbc05",
   "metadata": {},
   "outputs": [
    {
     "name": "stdout",
     "output_type": "stream",
     "text": [
      " * sqlite:///fiftyville.db\n",
      "Done.\n"
     ]
    },
    {
     "data": {
      "text/html": [
       "<table>\n",
       "    <thead>\n",
       "        <tr>\n",
       "            <th>id</th>\n",
       "            <th>year</th>\n",
       "            <th>month</th>\n",
       "            <th>day</th>\n",
       "            <th>street</th>\n",
       "            <th>description</th>\n",
       "        </tr>\n",
       "    </thead>\n",
       "    <tbody>\n",
       "        <tr>\n",
       "            <td>295</td>\n",
       "            <td>2021</td>\n",
       "            <td>7</td>\n",
       "            <td>28</td>\n",
       "            <td>Humphrey Street</td>\n",
       "            <td>Theft of the CS50 duck took place at 10:15am at the Humphrey Street bakery. Interviews were conducted today with three witnesses who were present at the time – each of their interview transcripts mentions the bakery.</td>\n",
       "        </tr>\n",
       "        <tr>\n",
       "            <td>297</td>\n",
       "            <td>2021</td>\n",
       "            <td>7</td>\n",
       "            <td>28</td>\n",
       "            <td>Humphrey Street</td>\n",
       "            <td>Littering took place at 16:36. No known witnesses.</td>\n",
       "        </tr>\n",
       "    </tbody>\n",
       "</table>"
      ],
      "text/plain": [
       "[(295, 2021, 7, 28, 'Humphrey Street', 'Theft of the CS50 duck took place at 10:15am at the Humphrey Street bakery. Interviews were conducted today with three witnesses who were present at the time – each of their interview transcripts mentions the bakery.'),\n",
       " (297, 2021, 7, 28, 'Humphrey Street', 'Littering took place at 16:36. No known witnesses.')]"
      ]
     },
     "execution_count": 18,
     "metadata": {},
     "output_type": "execute_result"
    }
   ],
   "source": [
    "%%sql\n",
    "SELECT * FROM crime_scene_reports\n",
    "WHERE month = 7\n",
    "    AND day = 28\n",
    "    AND street LIKE '%Humphrey%';"
   ]
  },
  {
   "cell_type": "markdown",
   "id": "1e87aa68-1422-449f-a394-747e075fca89",
   "metadata": {},
   "source": [
    "### Crime Details\n",
    "The theft occurred at **10:15 AM** on **July 28**, at **Humphrey St.**. All three witnesses have confirmed that they were present at the **Bakery**, making it a crucial location in the investigation. Their testimonies might provide important clues about the events leading to the crime."
   ]
  },
  {
   "cell_type": "code",
   "execution_count": 31,
   "id": "7b1a1399-714a-40f7-8d7f-7aa2123dd61c",
   "metadata": {},
   "outputs": [
    {
     "name": "stdout",
     "output_type": "stream",
     "text": [
      " * sqlite:///fiftyville.db\n",
      "Done.\n"
     ]
    },
    {
     "data": {
      "text/html": [
       "<table>\n",
       "    <thead>\n",
       "        <tr>\n",
       "            <th>id</th>\n",
       "            <th>name</th>\n",
       "            <th>year</th>\n",
       "            <th>month</th>\n",
       "            <th>day</th>\n",
       "            <th>transcript</th>\n",
       "        </tr>\n",
       "    </thead>\n",
       "    <tbody>\n",
       "        <tr>\n",
       "            <td>161</td>\n",
       "            <td>Ruth</td>\n",
       "            <td>2021</td>\n",
       "            <td>7</td>\n",
       "            <td>28</td>\n",
       "            <td>Sometime within ten minutes of the theft, I saw the thief get into a car in the bakery parking lot and drive away. If you have security footage from the bakery parking lot, you might want to look for cars that left the parking lot in that time frame.</td>\n",
       "        </tr>\n",
       "        <tr>\n",
       "            <td>162</td>\n",
       "            <td>Eugene</td>\n",
       "            <td>2021</td>\n",
       "            <td>7</td>\n",
       "            <td>28</td>\n",
       "            <td>I don&#x27;t know the thief&#x27;s name, but it was someone I recognized. Earlier this morning, before I arrived at Emma&#x27;s bakery, I was walking by the ATM on Leggett Street and saw the thief there withdrawing some money.</td>\n",
       "        </tr>\n",
       "        <tr>\n",
       "            <td>163</td>\n",
       "            <td>Raymond</td>\n",
       "            <td>2021</td>\n",
       "            <td>7</td>\n",
       "            <td>28</td>\n",
       "            <td>As the thief was leaving the bakery, they called someone who talked to them for less than a minute. In the call, I heard the thief say that they were planning to take the earliest flight out of Fiftyville tomorrow. The thief then asked the person on the other end of the phone to purchase the flight ticket.</td>\n",
       "        </tr>\n",
       "    </tbody>\n",
       "</table>"
      ],
      "text/plain": [
       "[(161, 'Ruth', 2021, 7, 28, 'Sometime within ten minutes of the theft, I saw the thief get into a car in the bakery parking lot and drive away. If you have security footage from the bakery parking lot, you might want to look for cars that left the parking lot in that time frame.'),\n",
       " (162, 'Eugene', 2021, 7, 28, \"I don't know the thief's name, but it was someone I recognized. Earlier this morning, before I arrived at Emma's bakery, I was walking by the ATM on Leggett Street and saw the thief there withdrawing some money.\"),\n",
       " (163, 'Raymond', 2021, 7, 28, 'As the thief was leaving the bakery, they called someone who talked to them for less than a minute. In the call, I heard the thief say that they were ... (9 characters truncated) ...  to take the earliest flight out of Fiftyville tomorrow. The thief then asked the person on the other end of the phone to purchase the flight ticket.')]"
      ]
     },
     "execution_count": 31,
     "metadata": {},
     "output_type": "execute_result"
    }
   ],
   "source": [
    "%%sql\n",
    "SELECT * FROM interviews\n",
    "WHERE month = 7\n",
    "    AND day = 28\n",
    "    AND transcript LIKE '%bakery%';"
   ]
  },
  {
   "cell_type": "markdown",
   "id": "f9aa75c9-3617-40a5-a85f-9512c77da944",
   "metadata": {},
   "source": [
    "### Witness Testimonies at the Bakery\n",
    "\n",
    "1. **Ruth**: \n",
    "   - Ruth reported seeing a car leaving the crime scene approximately **10 minutes** after the theft occurred. This detail suggests the thief may have fled in a vehicle, possibly heading towards a nearby location.\n",
    "\n",
    "2. **Eugene**: \n",
    "   - Eugene witnessed the theft firsthand by the **ATM on Legett St.**, where the thief was seen withdrawing some money. This connection to the ATM could be vital in linking the thief to the crime scene and establishing a timeline.\n",
    "\n",
    "3. **Raymond**: \n",
    "   - Raymond overheard a conversation where the thief mentioned plans to **fly to Fiftyville** the **next day** (earliest). This conversation, which lasted less than **60 seconds**, could indicate the thief's intentions and possibly point to their next destination."
   ]
  },
  {
   "cell_type": "code",
   "execution_count": 32,
   "id": "91b239fb-e6cc-429c-8548-df72780413a1",
   "metadata": {},
   "outputs": [
    {
     "ename": "SyntaxError",
     "evalue": "invalid syntax (4274078725.py, line 3)",
     "output_type": "error",
     "traceback": [
      "\u001b[1;36m  Cell \u001b[1;32mIn[32], line 3\u001b[1;36m\u001b[0m\n\u001b[1;33m    SELECT * FROM atm_transactions\u001b[0m\n\u001b[1;37m                  ^\u001b[0m\n\u001b[1;31mSyntaxError\u001b[0m\u001b[1;31m:\u001b[0m invalid syntax\n"
     ]
    }
   ],
   "source": [
    "# to identify any info from Eugene statement\n",
    "%%sql\n",
    "SELECT * FROM atm_transactions\n",
    "WHERE month = 7\n",
    "    AND day = 28\n",
    "    AND atm_location LIKE '%Leggett%'\n",
    "    AND transaction_type = 'withdraw';"
   ]
  },
  {
   "cell_type": "code",
   "execution_count": null,
   "id": "6aedc55b-afe6-4848-84e1-e25e0f38cbc0",
   "metadata": {},
   "outputs": [],
   "source": [
    "#to identify the license_plate\n",
    "%%sql\n",
    "SELECT * FROM bakery_security_logs\n",
    "WHERE month = 7\n",
    "    AND day = 28\n",
    "    AND hour = 10\n",
    "    AND minute BETWEEN 15 AND 25\n",
    "    AND activity ='exit';"
   ]
  },
  {
   "cell_type": "code",
   "execution_count": null,
   "id": "c8ad6f27-d44c-4524-8ec0-3c7d3adacc12",
   "metadata": {},
   "outputs": [],
   "source": [
    "#to identify the origin_airport_id which the thief fly from Fiftyville\n",
    "%%sql\n",
    "SELECT * FROM airports\n",
    "WHERE city = 'Fiftyville'"
   ]
  },
  {
   "cell_type": "code",
   "execution_count": null,
   "id": "e33edbf7-a24a-498b-91b5-56ef44b1152f",
   "metadata": {},
   "outputs": [],
   "source": [
    "#to identify the flight info based on the Raymond description in which fly the first flight from Fiftyville \n",
    "%%sql\n",
    "SELECT * FROM flights\n",
    "WHERE origin_airport_id = 8\n",
    "    AND month = 7\n",
    "    AND day = 29\n",
    "    ORDER BY hour\n",
    "    LIMIT 1;"
   ]
  },
  {
   "cell_type": "markdown",
   "id": "1420dd5b-34ee-4e2c-9b91-c7b7f60f40f7",
   "metadata": {},
   "source": [
    "### Thief's Escape Flight\n",
    "\n",
    "- The thief boarded the **first flight** the next day at **08:20 AM**, with **flight_id = 36**.\n",
    "- The flight's destination was **airport_id = 4**, which points to the thief's intended escape location."
   ]
  },
  {
   "cell_type": "code",
   "execution_count": null,
   "id": "52119cee-3ed2-4a83-b8a8-57093f3556e9",
   "metadata": {},
   "outputs": [],
   "source": [
    "%%sql\n",
    "SELECT * FROM airports\n",
    "WHERE id = 4"
   ]
  },
  {
   "cell_type": "markdown",
   "id": "1cd69583-4509-490a-bf24-d6e83cbba4d4",
   "metadata": {},
   "source": [
    "### Question 2: What city did the thief escape to?\n",
    "\n",
    "- The thief escaped to **New York City**. This is the city associated with the destination airport (airport_id = 4), which was the thief's escape route."
   ]
  },
  {
   "cell_type": "code",
   "execution_count": null,
   "id": "9988982e-a7e6-4e69-ab53-b7b1fb00a115",
   "metadata": {},
   "outputs": [],
   "source": [
    "%%sql\n",
    "SELECT * FROM passengers\n",
    "WHERE flight_id = 36"
   ]
  },
  {
   "cell_type": "markdown",
   "id": "5fa3fcaf-6c69-4f14-a59f-97efd8b66b43",
   "metadata": {},
   "source": [
    "### Thief's Identity\n",
    "\n",
    "- **One of the passport numbers** is linked to the thief. This piece of information could be crucial in identifying the thief among the suspects and confirming their identity."
   ]
  },
  {
   "cell_type": "code",
   "execution_count": null,
   "id": "867db1d5-6bcf-4a68-839c-65a17451eb44",
   "metadata": {},
   "outputs": [],
   "source": [
    "# To combine passengers & people table to get the name based on passport no\n",
    "%%sql\n",
    "SELECT people.name, passengers.passport_number, passengers.flight_id\n",
    "FROM passengers\n",
    "JOIN people ON passengers.passport_number = people.passport_number\n",
    "WHERE passengers.flight_id = 36;"
   ]
  },
  {
   "cell_type": "markdown",
   "id": "d953c137-faf6-41fd-b8c7-50eb3f2418bf",
   "metadata": {},
   "source": [
    "### Conclusion\n",
    "\n",
    "- Based on the evidence and clues gathered, **the thief is one of the suspects mentioned above**. Further investigation into their actions, alibis, and connections to the crime scene will help confirm the identity of the thief."
   ]
  },
  {
   "cell_type": "code",
   "execution_count": null,
   "id": "53dae720-9195-4f99-9dd5-c60efa90452d",
   "metadata": {},
   "outputs": [],
   "source": [
    "#to identify the caller/receiver based on Raymond description\n",
    "%%sql\n",
    "SELECT * FROM phone_calls\n",
    "    WHERE month = 7\n",
    "    AND day = 28\n",
    "    AND duration < 60;"
   ]
  },
  {
   "cell_type": "code",
   "execution_count": null,
   "id": "de156a6a-07e9-4be6-8171-82c1a22f4889",
   "metadata": {},
   "outputs": [],
   "source": [
    "#to identify the list of the name and license_plate based on Ruth descrition\n",
    "%%sql\n",
    "SELECT people.name, bakery_security_logs.license_plate\n",
    "FROM bakery_security_logs\n",
    "JOIN people ON bakery_security_logs.license_plate = people.license_plate\n",
    "WHERE month = 7\n",
    "    AND day = 28\n",
    "    AND hour = 10\n",
    "    AND minute BETWEEN 15 AND 25\n",
    "    AND activity ='exit';"
   ]
  },
  {
   "cell_type": "code",
   "execution_count": null,
   "id": "45744dfd-2c48-47f0-a3d3-24f6d64c91cb",
   "metadata": {},
   "outputs": [],
   "source": [
    "#to narrow down the suspect list based on passport_number and license_plate \n",
    "%%sql\n",
    "SELECT p1.name, p1.passport_number, p2.license_plate\n",
    "FROM \n",
    "    (SELECT people.name, people.passport_number \n",
    "     FROM people \n",
    "     JOIN passengers ON people.passport_number = passengers.passport_number\n",
    "     WHERE passengers.flight_id = 36) AS p1\n",
    "JOIN \n",
    "    (SELECT people.name, bakery_security_logs.license_plate \n",
    "     FROM people \n",
    "     JOIN bakery_security_logs ON people.license_plate = bakery_security_logs.license_plate\n",
    "     WHERE bakery_security_logs.month = 7\n",
    "        AND bakery_security_logs.day = 28\n",
    "        AND bakery_security_logs.hour = 10\n",
    "        AND bakery_security_logs.minute BETWEEN 15 AND 25\n",
    "        AND bakery_security_logs.activity = 'exit') AS p2\n",
    "ON p1.name = p2.name;"
   ]
  },
  {
   "cell_type": "markdown",
   "id": "284830ff-7720-41cf-bde7-3d7d91920e64",
   "metadata": {},
   "source": [
    "### Suspect List\n",
    "\n",
    "- After analyzing the evidence, the suspect list has been narrowed down to **four people**:  \n",
    "  - **Sofia**  \n",
    "  - **Bruce**  \n",
    "  - **Kelsey**  \n",
    "  - **Luca**  \n",
    "- Further investigation is required to determine which one of them is the thief."
   ]
  },
  {
   "cell_type": "code",
   "execution_count": null,
   "id": "06a12f51-7b67-436a-a7cf-50dbb3edcc09",
   "metadata": {},
   "outputs": [],
   "source": [
    "#to identify the name list that make a call less than a minute after leaving bakery based on Raymond description\n",
    "%%sql\n",
    "SELECT DISTINCT people.name, people.phone_number, phone_calls.caller, phone_calls.receiver\n",
    "FROM phone_calls\n",
    "JOIN people ON phone_calls.caller = people.phone_number\n",
    "    WHERE month = 7\n",
    "    AND day = 28\n",
    "    AND duration < 60;"
   ]
  },
  {
   "cell_type": "code",
   "execution_count": null,
   "id": "0aacb979-3f34-4b29-8793-007153d3153f",
   "metadata": {},
   "outputs": [],
   "source": [
    "#to narrow down the suspect list based on passport_number, license_plate and phone_number \n",
    "%%sql\n",
    "SELECT p1.name, p1.passport_number, p2.license_plate, p3.phone_number, p3.caller, p3.receiver\n",
    "FROM \n",
    "    (SELECT people.name, people.passport_number \n",
    "     FROM people \n",
    "     JOIN passengers ON people.passport_number = passengers.passport_number\n",
    "         WHERE passengers.flight_id = 36) AS p1\n",
    "JOIN \n",
    "    (SELECT people.name, bakery_security_logs.license_plate \n",
    "     FROM people \n",
    "     JOIN bakery_security_logs ON people.license_plate = bakery_security_logs.license_plate\n",
    "         WHERE bakery_security_logs.month = 7\n",
    "        AND bakery_security_logs.day = 28\n",
    "        AND bakery_security_logs.hour = 10\n",
    "        AND bakery_security_logs.minute BETWEEN 15 AND 25\n",
    "        AND bakery_security_logs.activity = 'exit') AS p2\n",
    "ON p1.name = p2.name\n",
    "JOIN\n",
    "    (SELECT DISTINCT people.name, people.phone_number, phone_calls.caller, phone_calls.receiver\n",
    "    FROM phone_calls\n",
    "    JOIN people ON phone_calls.caller = people.phone_number\n",
    "        WHERE month = 7\n",
    "        AND day = 28\n",
    "        AND duration < 60 ) AS p3\n",
    "ON p1.name = p3.name;"
   ]
  },
  {
   "cell_type": "markdown",
   "id": "941d1227-3ef9-4d2a-9fce-43dc2f82d8c6",
   "metadata": {},
   "source": [
    "### Suspect List Update\n",
    "\n",
    "- After further investigation, the suspect list has been narrowed down to **three people**:  \n",
    "  - **Sofia**  \n",
    "  - **Bruce**  \n",
    "  - **Kelsey**  \n",
    "- The investigation now focuses on these three individuals to determine which one is the thief."
   ]
  },
  {
   "cell_type": "code",
   "execution_count": null,
   "id": "50c30cc6-b21c-4cce-bf1c-18cae14c9088",
   "metadata": {},
   "outputs": [],
   "source": [
    "#to narrow down the suspect list based on atm_transactions based on Eugenen description to get to know the list of the name and account_number\n",
    "#to combine the atm_transactions, bank_accounts and people table.\n",
    "%%sql\n",
    "SELECT people.name, bank_accounts.account_number\n",
    "FROM people\n",
    "JOIN bank_accounts ON people.id = bank_accounts.person_id\n",
    "JOIN atm_transactions ON bank_accounts.account_number = atm_transactions.account_number\n",
    "WHERE atm_transactions.month = 7\n",
    "    AND atm_transactions.day = 28\n",
    "    AND atm_transactions.atm_location LIKE '%Leggett%'\n",
    "    AND atm_transactions.transaction_type = 'withdraw';"
   ]
  },
  {
   "cell_type": "code",
   "execution_count": null,
   "id": "e09bcfec-40e0-4c8c-8084-b709dfd24f97",
   "metadata": {},
   "outputs": [],
   "source": [
    "#to narrow down the suspect list based on passport_number, license_plate, phone_number and account_number\n",
    "%%sql\n",
    "SELECT p1.name, p1.passport_number, p2.license_plate, p3.phone_number, p3.caller, p3.receiver, p4.account_number\n",
    "FROM \n",
    "    (SELECT people.name, people.passport_number \n",
    "     FROM people \n",
    "     JOIN passengers ON people.passport_number = passengers.passport_number\n",
    "         WHERE passengers.flight_id = 36) AS p1\n",
    "JOIN \n",
    "    (SELECT people.name, bakery_security_logs.license_plate \n",
    "     FROM people \n",
    "     JOIN bakery_security_logs ON people.license_plate = bakery_security_logs.license_plate\n",
    "         WHERE bakery_security_logs.month = 7\n",
    "        AND bakery_security_logs.day = 28\n",
    "        AND bakery_security_logs.hour = 10\n",
    "        AND bakery_security_logs.minute BETWEEN 15 AND 25\n",
    "        AND bakery_security_logs.activity = 'exit') AS p2\n",
    "ON p1.name = p2.name\n",
    "JOIN\n",
    "    (SELECT DISTINCT people.name, people.phone_number, phone_calls.caller, phone_calls.receiver\n",
    "    FROM phone_calls\n",
    "    JOIN people ON phone_calls.caller = people.phone_number\n",
    "        WHERE month = 7\n",
    "        AND day = 28\n",
    "        AND duration < 60 ) AS p3\n",
    "ON p1.name = p3.name\n",
    "JOIN\n",
    "    (SELECT people.name, bank_accounts.account_number\n",
    "    FROM people\n",
    "    JOIN bank_accounts ON people.id = bank_accounts.person_id\n",
    "    JOIN atm_transactions ON bank_accounts.account_number = atm_transactions.account_number\n",
    "    WHERE atm_transactions.month = 7\n",
    "        AND atm_transactions.day = 28\n",
    "        AND atm_transactions.atm_location LIKE '%Leggett%'\n",
    "        AND atm_transactions.transaction_type = 'withdraw') AS p4\n",
    "ON p1.name = p4.name;"
   ]
  },
  {
   "cell_type": "markdown",
   "id": "edc67c16-b3b4-4486-89ec-993252048cfa",
   "metadata": {},
   "source": [
    "### Question 1: Who is the thief?\n",
    "\n",
    "- After analyzing all the clues and evidence, it has been determined that **Bruce** is the thief."
   ]
  },
  {
   "cell_type": "code",
   "execution_count": null,
   "id": "2ae6e965-6577-43a3-9a29-c84a0efd8c0b",
   "metadata": {},
   "outputs": [],
   "source": [
    "#to show the answer for Question 1\n",
    "%%sql\n",
    "SELECT CONCAT('The thief is ', p1.name) AS 'Question 1'\n",
    "\n",
    "FROM \n",
    "    (SELECT people.name, people.passport_number \n",
    "     FROM people \n",
    "     JOIN passengers ON people.passport_number = passengers.passport_number\n",
    "         WHERE passengers.flight_id = 36) AS p1\n",
    "JOIN \n",
    "    (SELECT people.name, bakery_security_logs.license_plate \n",
    "     FROM people \n",
    "     JOIN bakery_security_logs ON people.license_plate = bakery_security_logs.license_plate\n",
    "        WHERE bakery_security_logs.month = 7\n",
    "        AND bakery_security_logs.day = 28\n",
    "        AND bakery_security_logs.hour = 10\n",
    "        AND bakery_security_logs.minute BETWEEN 15 AND 25\n",
    "        AND bakery_security_logs.activity = 'exit') AS p2\n",
    "ON p1.name = p2.name\n",
    "JOIN\n",
    "    (SELECT DISTINCT people.name, people.phone_number, phone_calls.caller\n",
    "    FROM phone_calls\n",
    "    JOIN people ON phone_calls.caller = people.phone_number\n",
    "        WHERE month = 7\n",
    "        AND day = 28\n",
    "        AND duration < 60 ) AS p3\n",
    "ON p1.name = p3.name\n",
    "JOIN\n",
    "    (SELECT people.name, bank_accounts.account_number\n",
    "    FROM people\n",
    "    JOIN bank_accounts ON people.id = bank_accounts.person_id\n",
    "    JOIN atm_transactions ON bank_accounts.account_number = atm_transactions.account_number\n",
    "    WHERE atm_transactions.month = 7\n",
    "        AND atm_transactions.day = 28\n",
    "        AND atm_transactions.atm_location LIKE '%Leggett%'\n",
    "        AND atm_transactions.transaction_type = 'withdraw') AS p4\n",
    "ON p1.name = p4.name;"
   ]
  },
  {
   "cell_type": "code",
   "execution_count": null,
   "id": "6bf53cab-2670-42c3-baf7-9f08e9cd0c5e",
   "metadata": {},
   "outputs": [],
   "source": [
    "# to show the answer for Question 2\n",
    "%%sql\n",
    "SELECT CONCAT('The city the thief escaped to is ', city) AS 'Question 2'\n",
    "FROM airports\n",
    "WHERE id = 4;"
   ]
  },
  {
   "cell_type": "code",
   "execution_count": null,
   "id": "b51dd9a2-5629-4da7-b953-ccf7cfbb3b21",
   "metadata": {},
   "outputs": [],
   "source": [
    "# For Q3: Who the thief’s accomplice is who helped them escape\n",
    "# from phone_calls list, the receiver number that Bruce called is (375) 555-8161\n",
    "# to show the answer for Question 3\n",
    "%%sql\n",
    "SELECT DISTINCT CONCAT('The accomplice who helped the thief escape is ', name) AS 'Question 3'\n",
    "FROM people\n",
    "JOIN phone_calls ON phone_calls.receiver = people.phone_number\n",
    "WHERE receiver = '(375) 555-8161';"
   ]
  }
 ],
 "metadata": {
  "kernelspec": {
   "display_name": "Python 3 (ipykernel)",
   "language": "python",
   "name": "python3"
  },
  "language_info": {
   "codemirror_mode": {
    "name": "ipython",
    "version": 3
   },
   "file_extension": ".py",
   "mimetype": "text/x-python",
   "name": "python",
   "nbconvert_exporter": "python",
   "pygments_lexer": "ipython3",
   "version": "3.12.6"
  }
 },
 "nbformat": 4,
 "nbformat_minor": 5
}
